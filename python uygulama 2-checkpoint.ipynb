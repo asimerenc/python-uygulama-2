{
 "cells": [
  {
   "cell_type": "code",
   "execution_count": 1,
   "id": "50509825-d33a-45d4-b15c-84f669b71407",
   "metadata": {},
   "outputs": [
    {
     "name": "stdout",
     "output_type": "stream",
     "text": [
      "Minimum mesafe: 1.4142135623730951\n"
     ]
    }
   ],
   "source": [
    "import math\n",
    "\n",
    "# Öklid mesafesi hesaplama fonksiyonu\n",
    "def euclideanDistance(point1, point2):\n",
    "    return math.sqrt((point2[0] - point1[0])**2 + (point2[1] - point1[1])**2)\n",
    "\n",
    "# Noktaların tanımlanması\n",
    "points = [(2, 3), (3, 4), (5, 6), (7, 8), (9, 10)]  # Örnek noktalar\n",
    "\n",
    "# Mesafelerin hesaplanması\n",
    "distances = []\n",
    "for i in range(len(points)):\n",
    "    for j in range(i + 1, len(points)):\n",
    "        distance = euclideanDistance(points[i], points[j])\n",
    "        distances.append(distance)\n",
    "\n",
    "# Minimum mesafenin bulunması\n",
    "min_distance = min(distances)\n",
    "print(\"Minimum mesafe:\", min_distance)\n",
    "\n",
    "\n",
    "# 1-euclideanDistance fonksiyonu, iki nokta arasındaki Öklid mesafesini hesaplar. Bu fonksiyon, iki noktanın x ve y koordinatları arasındaki farkların karesini toplar ve karekökünü alır.\n",
    "# 2-points listesi, 2D uzaydaki noktaları temsil eden demetler içerir.\n",
    "# 3-Bir döngü, points listesindeki her nokta çifti için euclideanDistance fonksiyonunu kullanarak iki nokta arasındaki mesafeyi hesaplar ve bu mesafeleri distances listesine ekler.\n",
    "# min() fonksiyonu,\n",
    "#  distances listesinden minimum mesafeyi bulur.Son olarak, minimum mesafe ekrana yazdırılır"
   ]
  },
  {
   "cell_type": "code",
   "execution_count": null,
   "id": "e0204451-b54b-4826-b74f-cf39df2e7e3e",
   "metadata": {},
   "outputs": [],
   "source": []
  }
 ],
 "metadata": {
  "kernelspec": {
   "display_name": "Python 3 (ipykernel)",
   "language": "python",
   "name": "python3"
  },
  "language_info": {
   "codemirror_mode": {
    "name": "ipython",
    "version": 3
   },
   "file_extension": ".py",
   "mimetype": "text/x-python",
   "name": "python",
   "nbconvert_exporter": "python",
   "pygments_lexer": "ipython3",
   "version": "3.12.4"
  }
 },
 "nbformat": 4,
 "nbformat_minor": 5
}
